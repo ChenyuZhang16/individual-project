{
 "metadata": {
  "language_info": {
   "codemirror_mode": {
    "name": "ipython",
    "version": 3
   },
   "file_extension": ".py",
   "mimetype": "text/x-python",
   "name": "python",
   "nbconvert_exporter": "python",
   "pygments_lexer": "ipython3",
   "version": "3.8.10"
  },
  "orig_nbformat": 2,
  "kernelspec": {
   "name": "python3810jvsc74a57bd049ae54da87d30ce9a4ee3db63b336d8c199163ab7f8a89be15d9b453cfa01fec",
   "display_name": "Python 3.8.10 64-bit ('msc_project': conda)"
  },
  "metadata": {
   "interpreter": {
    "hash": "49ae54da87d30ce9a4ee3db63b336d8c199163ab7f8a89be15d9b453cfa01fec"
   }
  }
 },
 "nbformat": 4,
 "nbformat_minor": 2,
 "cells": [
  {
   "cell_type": "code",
   "execution_count": 1,
   "metadata": {},
   "outputs": [],
   "source": [
    "from gimmik import generate_mm\n",
    "import numpy as np"
   ]
  },
  {
   "cell_type": "code",
   "execution_count": 2,
   "metadata": {},
   "outputs": [
    {
     "output_type": "stream",
     "name": "stdout",
     "text": [
      "\nvoid\ngimmik_mm(int n,\n         const double* restrict b, int ldb,\n         double* restrict c, int ldc)\n{\n    double dotp;\n\n    #pragma omp simd\n    for (int i = 0; i < n; i++)\n    {\n        dotp = 2.0*b[i + 0*ldb];\n        c[i + 0*ldc] = dotp;\n        dotp = 2.0*b[i + 1*ldb];\n        c[i + 1*ldc] = dotp;\n        dotp = 2.0*b[i + 2*ldb];\n        c[i + 2*ldc] = dotp;\n    }\n}\n\n"
     ]
    }
   ],
   "source": [
    "# c\n",
    "\n",
    "a = 2 * np.eye(3)\n",
    "print(generate_mm(a, np.float64, \"c\"))"
   ]
  },
  {
   "cell_type": "code",
   "execution_count": 3,
   "metadata": {},
   "outputs": [
    {
     "output_type": "stream",
     "name": "stdout",
     "text": [
      "\nvoid\ngimmik_mm(int ncol,\n         const double* restrict b, int ldb,\n         double* restrict c, int ldc)\n{\n    double dotp;\n\n    #pragma omp parallel for simd private(dotp)\n    for (int i = 0; i < ncol; i++)\n    {\n        dotp = 2.0*b[i + 0*ldb];\n        c[i + 0*ldc] = dotp;\n        dotp = 2.0*b[i + 1*ldb];\n        c[i + 1*ldc] = dotp;\n        dotp = 2.0*b[i + 2*ldb];\n        c[i + 2*ldc] = dotp;\n    }\n}\n\n"
     ]
    }
   ],
   "source": [
    "# c-omp\n",
    "\n",
    "a = 2 * np.eye(3)\n",
    "print(generate_mm(a, np.float64, \"c-omp\"))"
   ]
  },
  {
   "cell_type": "code",
   "execution_count": 4,
   "metadata": {},
   "outputs": [
    {
     "output_type": "stream",
     "name": "stdout",
     "text": [
      "\n__global__ void\ngimmik_mm(int n,\n         const double* __restrict__ b, int ldb,\n         double* __restrict__ c, int ldc)\n{\n    int i = blockDim.x*blockIdx.x + threadIdx.x;\n    double dotp;\n\n    if (i < n)\n    {\n        dotp = 2.0*b[i + 0*ldb];\n        c[i + 0*ldc] = dotp;\n        dotp = 2.0*b[i + 1*ldb];\n        c[i + 1*ldc] = dotp;\n        dotp = 2.0*b[i + 2*ldb];\n        c[i + 2*ldc] = dotp;\n    }\n}\n\n"
     ]
    }
   ],
   "source": [
    "# cuda\n",
    "\n",
    "a = 2 * np.eye(3)\n",
    "print(generate_mm(a, np.float64, \"cuda\"))"
   ]
  },
  {
   "cell_type": "code",
   "execution_count": 5,
   "metadata": {},
   "outputs": [
    {
     "output_type": "stream",
     "name": "stdout",
     "text": [
      "\nexport void\ngimmik_mm(uniform int n,\n         const uniform double b[], uniform int ldb,\n         double uniform c[], uniform int ldc)\n{\n    double dotp;\n\n    foreach (i = 0 ... n)\n    {\n        dotp = 2.0*b[i + 0*ldb];\n        c[i + 0*ldc] = dotp;\n        dotp = 2.0*b[i + 1*ldb];\n        c[i + 1*ldc] = dotp;\n        dotp = 2.0*b[i + 2*ldb];\n        c[i + 2*ldc] = dotp;\n    }\n}\n\n"
     ]
    }
   ],
   "source": [
    "# ispc\n",
    "\n",
    "a = 2 * np.eye(3)\n",
    "print(generate_mm(a, np.float64, \"ispc\"))"
   ]
  },
  {
   "cell_type": "code",
   "execution_count": 6,
   "metadata": {},
   "outputs": [
    {
     "output_type": "stream",
     "name": "stdout",
     "text": [
      "\n#if __OPENCL_VERSION__ < 120\n# pragma OPENCL EXTENSION cl_khr_fp64: enable\n#endif\n\n__kernel void\ngimmik_mm(int n,\n         __global const double* restrict b, int ldb,\n         __global double* restrict c, int ldc)\n{\n    int i = get_global_id(0);\n    double dotp;\n\n    if (i < n)\n    {\n        dotp = 2.0*b[i + 0*ldb];\n        c[i + 0*ldc] = dotp;\n        dotp = 2.0*b[i + 1*ldb];\n        c[i + 1*ldc] = dotp;\n        dotp = 2.0*b[i + 2*ldb];\n        c[i + 2*ldc] = dotp;\n    }\n}\n\n"
     ]
    }
   ],
   "source": [
    "# opencl\n",
    "\n",
    "a = 2 * np.eye(3)\n",
    "print(generate_mm(a, np.float64, \"opencl\"))"
   ]
  }
 ]
}